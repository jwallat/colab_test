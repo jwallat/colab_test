{
  "nbformat": 4,
  "nbformat_minor": 0,
  "metadata": {
    "colab": {
      "name": "keras_tutorial.ipynb",
      "provenance": [],
      "collapsed_sections": [],
      "include_colab_link": true
    },
    "kernelspec": {
      "name": "python3",
      "display_name": "Python 3"
    },
    "accelerator": "TPU"
  },
  "cells": [
    {
      "cell_type": "markdown",
      "metadata": {
        "id": "view-in-github",
        "colab_type": "text"
      },
      "source": [
        "<a href=\"https://colab.research.google.com/github/jwallat/colab_test/blob/master/keras_tutorial.ipynb\" target=\"_parent\"><img src=\"https://colab.research.google.com/assets/colab-badge.svg\" alt=\"Open In Colab\"/></a>"
      ]
    },
    {
      "cell_type": "code",
      "metadata": {
        "id": "69lk5gnZ9SdM",
        "colab_type": "code",
        "colab": {
          "base_uri": "https://localhost:8080/",
          "height": 268
        },
        "outputId": "fd28eb38-22ce-44af-e775-77f9da22bfdd"
      },
      "source": [
        "import pandas as pd\n",
        "\n",
        "white = pd.read_csv(\"http://archive.ics.uci.edu/ml/machine-learning-databases/wine-quality/winequality-white.csv\", sep=';')\n",
        "\n",
        "red = pd.read_csv(\"http://archive.ics.uci.edu/ml/machine-learning-databases/wine-quality/winequality-red.csv\", sep=';')\n",
        "\n",
        "print(red)"
      ],
      "execution_count": 7,
      "outputs": [
        {
          "output_type": "stream",
          "text": [
            "      fixed acidity  volatile acidity  citric acid  ...  sulphates  alcohol  quality\n",
            "0               7.4             0.700         0.00  ...       0.56      9.4        5\n",
            "1               7.8             0.880         0.00  ...       0.68      9.8        5\n",
            "2               7.8             0.760         0.04  ...       0.65      9.8        5\n",
            "3              11.2             0.280         0.56  ...       0.58      9.8        6\n",
            "4               7.4             0.700         0.00  ...       0.56      9.4        5\n",
            "...             ...               ...          ...  ...        ...      ...      ...\n",
            "1594            6.2             0.600         0.08  ...       0.58     10.5        5\n",
            "1595            5.9             0.550         0.10  ...       0.76     11.2        6\n",
            "1596            6.3             0.510         0.13  ...       0.75     11.0        6\n",
            "1597            5.9             0.645         0.12  ...       0.71     10.2        5\n",
            "1598            6.0             0.310         0.47  ...       0.66     11.0        6\n",
            "\n",
            "[1599 rows x 12 columns]\n"
          ],
          "name": "stdout"
        }
      ]
    },
    {
      "cell_type": "code",
      "metadata": {
        "id": "CbqDf4hHDmdU",
        "colab_type": "code",
        "colab": {}
      },
      "source": [
        "# Add type column\n",
        "red['type'] = 1\n",
        "\n",
        "white['type'] = 0\n",
        "\n",
        "wines = red.append(white, ignore_index=True)"
      ],
      "execution_count": 0,
      "outputs": []
    },
    {
      "cell_type": "markdown",
      "metadata": {
        "id": "ADSwkb07ECOa",
        "colab_type": "text"
      },
      "source": [
        "Correlation matrix\n"
      ]
    },
    {
      "cell_type": "code",
      "metadata": {
        "id": "hTKWqZpyDk2y",
        "colab_type": "code",
        "colab": {
          "base_uri": "https://localhost:8080/",
          "height": 353
        },
        "outputId": "c40c7b01-3a3e-4692-c098-c57d083670da"
      },
      "source": [
        "import seaborn as sns\n",
        "import matplotlib.pyplot as plt\n",
        "corr = wines.corr()\n",
        "sns.heatmap(corr,\n",
        "            xticklabels=corr.columns.values,\n",
        "            yticklabels=corr.columns.values)\n",
        "plt.show()"
      ],
      "execution_count": 9,
      "outputs": [
        {
          "output_type": "display_data",
          "data": {
            "image/png": "[encoded data removed]",
            "text/plain": [
              "<Figure size 432x288 with 2 Axes>"
            ]
          },
          "metadata": {
            "tags": []
          }
        }
      ]
    },
    {
      "cell_type": "markdown",
      "metadata": {
        "id": "LZ33p3E_FcIz",
        "colab_type": "text"
      },
      "source": [
        "Split data into train and test\n"
      ]
    },
    {
      "cell_type": "code",
      "metadata": {
        "id": "d1vLP_paFbnL",
        "colab_type": "code",
        "colab": {
          "base_uri": "https://localhost:8080/",
          "height": 536
        },
        "outputId": "23167103-a9e2-4515-8414-44227c2d1170"
      },
      "source": [
        "from sklearn.model_selection import train_test_split\n",
        "import numpy as np\n",
        "print(wines)\n",
        "X = wines.iloc[:, :12]\n",
        "print(X)\n",
        "\n",
        "y = np.ravel(wines.type)\n",
        "\n",
        "X_train, X_test, y_train, y_test = train_test_split(X, y, test_size=0.33, random_state=42)"
      ],
      "execution_count": 15,
      "outputs": [
        {
          "output_type": "stream",
          "text": [
            "      fixed acidity  volatile acidity  citric acid  ...  alcohol  quality  type\n",
            "0               7.4              0.70         0.00  ...      9.4        5     1\n",
            "1               7.8              0.88         0.00  ...      9.8        5     1\n",
            "2               7.8              0.76         0.04  ...      9.8        5     1\n",
            "3              11.2              0.28         0.56  ...      9.8        6     1\n",
            "4               7.4              0.70         0.00  ...      9.4        5     1\n",
            "...             ...               ...          ...  ...      ...      ...   ...\n",
            "6492            6.2              0.21         0.29  ...     11.2        6     0\n",
            "6493            6.6              0.32         0.36  ...      9.6        5     0\n",
            "6494            6.5              0.24         0.19  ...      9.4        6     0\n",
            "6495            5.5              0.29         0.30  ...     12.8        7     0\n",
            "6496            6.0              0.21         0.38  ...     11.8        6     0\n",
            "\n",
            "[6497 rows x 13 columns]\n",
            "      fixed acidity  volatile acidity  citric acid  ...  sulphates  alcohol  quality\n",
            "0               7.4              0.70         0.00  ...       0.56      9.4        5\n",
            "1               7.8              0.88         0.00  ...       0.68      9.8        5\n",
            "2               7.8              0.76         0.04  ...       0.65      9.8        5\n",
            "3              11.2              0.28         0.56  ...       0.58      9.8        6\n",
            "4               7.4              0.70         0.00  ...       0.56      9.4        5\n",
            "...             ...               ...          ...  ...        ...      ...      ...\n",
            "6492            6.2              0.21         0.29  ...       0.50     11.2        6\n",
            "6493            6.6              0.32         0.36  ...       0.46      9.6        5\n",
            "6494            6.5              0.24         0.19  ...       0.46      9.4        6\n",
            "6495            5.5              0.29         0.30  ...       0.38     12.8        7\n",
            "6496            6.0              0.21         0.38  ...       0.32     11.8        6\n",
            "\n",
            "[6497 rows x 12 columns]\n",
            "[1 1 1 ... 0 0 0]\n"
          ],
          "name": "stdout"
        }
      ]
    },
    {
      "cell_type": "markdown",
      "metadata": {
        "id": "zO_7xE2MJ0ob",
        "colab_type": "text"
      },
      "source": [
        "Standardize data\n"
      ]
    },
    {
      "cell_type": "code",
      "metadata": {
        "id": "I5omewytJ0U5",
        "colab_type": "code",
        "colab": {}
      },
      "source": [
        "from sklearn.preprocessing import StandardScaler\n",
        "\n",
        "scaler = StandardScaler().fit(X_train)\n",
        "\n",
        "X_train = scaler.transform(X_train)\n",
        "\n",
        "X_test = scaler.transform(X_test)"
      ],
      "execution_count": 0,
      "outputs": []
    },
    {
      "cell_type": "code",
      "metadata": {
        "id": "OpNzjezDLb5K",
        "colab_type": "code",
        "colab": {
          "base_uri": "https://localhost:8080/",
          "height": 35
        },
        "outputId": "345a519d-2fd8-4858-f3e1-9577c5be7182"
      },
      "source": [
        "\n",
        "import tensorflow as tf\n",
        "from tensorflow import keras\n",
        "\n",
        "print(tf.__version__)\n",
        "\n",
        "model = keras.Sequential([\n",
        "    keras.layers.Dense(12, activation='relu', input_shape=(12,)),\n",
        "    keras.layers.Dense(8, activation='relu'),\n",
        "    keras.layers.Dense(1, activation='sigmoid')\n",
        "])"
      ],
      "execution_count": 16,
      "outputs": [
        {
          "output_type": "stream",
          "text": [
            "2.0.0\n"
          ],
          "name": "stdout"
        }
      ]
    },
    {
      "cell_type": "code",
      "metadata": {
        "id": "rKvN9Rm9MGJi",
        "colab_type": "code",
        "colab": {
          "base_uri": "https://localhost:8080/",
          "height": 268
        },
        "outputId": "f9062ff8-70aa-436e-cadc-81580c9f1c93"
      },
      "source": [
        "model.summary()"
      ],
      "execution_count": 13,
      "outputs": [
        {
          "output_type": "stream",
          "text": [
            "Model: \"sequential_2\"\n",
            "_________________________________________________________________\n",
            "Layer (type)                 Output Shape              Param #   \n",
            "=================================================================\n",
            "dense_6 (Dense)              (None, 12)                144       \n",
            "_________________________________________________________________\n",
            "dense_7 (Dense)              (None, 8)                 104       \n",
            "_________________________________________________________________\n",
            "dense_8 (Dense)              (None, 1)                 9         \n",
            "=================================================================\n",
            "Total params: 257\n",
            "Trainable params: 257\n",
            "Non-trainable params: 0\n",
            "_________________________________________________________________\n"
          ],
          "name": "stdout"
        }
      ]
    },
    {
      "cell_type": "code",
      "metadata": {
        "id": "96bExOvrRJ-l",
        "colab_type": "code",
        "colab": {
          "base_uri": "https://localhost:8080/",
          "height": 1000
        },
        "outputId": "f47bd143-93f2-4da9-f186-f59dd97764dd"
      },
      "source": [
        "model.compile(loss='binary_crossentropy', optimizer='adam', metrics=['accuracy'])\n",
        "\n",
        "model.fit(X_train, y_train, epochs=50, batch_size=32, verbose=1)"
      ],
      "execution_count": 19,
      "outputs": [
        {
          "output_type": "stream",
          "text": [
            "WARNING:tensorflow:Falling back from v2 loop because of error: Failed to find data adapter that can handle input: <class 'pandas.core.frame.DataFrame'>, <class 'NoneType'>\n",
            "Train on 4352 samples\n",
            "Epoch 1/50\n",
            "4352/4352 [==============================] - 0s 52us/sample - loss: 0.0426 - accuracy: 0.9878\n",
            "Epoch 2/50\n",
            "4352/4352 [==============================] - 0s 39us/sample - loss: 0.0404 - accuracy: 0.9885\n",
            "Epoch 3/50\n",
            "4352/4352 [==============================] - 0s 42us/sample - loss: 0.0462 - accuracy: 0.9862\n",
            "Epoch 4/50\n",
            "4352/4352 [==============================] - 0s 42us/sample - loss: 0.0433 - accuracy: 0.9855\n",
            "Epoch 5/50\n",
            "4352/4352 [==============================] - 0s 41us/sample - loss: 0.0415 - accuracy: 0.9876\n",
            "Epoch 6/50\n",
            "4352/4352 [==============================] - 0s 43us/sample - loss: 0.0402 - accuracy: 0.9890\n",
            "Epoch 7/50\n",
            "4352/4352 [==============================] - 0s 40us/sample - loss: 0.0427 - accuracy: 0.9860\n",
            "Epoch 8/50\n",
            "4352/4352 [==============================] - 0s 42us/sample - loss: 0.0412 - accuracy: 0.9876\n",
            "Epoch 9/50\n",
            "4352/4352 [==============================] - 0s 42us/sample - loss: 0.0472 - accuracy: 0.9860\n",
            "Epoch 10/50\n",
            "4352/4352 [==============================] - 0s 40us/sample - loss: 0.0438 - accuracy: 0.9869\n",
            "Epoch 11/50\n",
            "4352/4352 [==============================] - 0s 41us/sample - loss: 0.0399 - accuracy: 0.9881\n",
            "Epoch 12/50\n",
            "4352/4352 [==============================] - 0s 41us/sample - loss: 0.0397 - accuracy: 0.9885\n",
            "Epoch 13/50\n",
            "4352/4352 [==============================] - 0s 40us/sample - loss: 0.0385 - accuracy: 0.9887\n",
            "Epoch 14/50\n",
            "4352/4352 [==============================] - 0s 41us/sample - loss: 0.0493 - accuracy: 0.9851\n",
            "Epoch 15/50\n",
            "4352/4352 [==============================] - 0s 41us/sample - loss: 0.0396 - accuracy: 0.9876\n",
            "Epoch 16/50\n",
            "4352/4352 [==============================] - 0s 41us/sample - loss: 0.0411 - accuracy: 0.9876\n",
            "Epoch 17/50\n",
            "4352/4352 [==============================] - 0s 40us/sample - loss: 0.0407 - accuracy: 0.9881\n",
            "Epoch 18/50\n",
            "4352/4352 [==============================] - 0s 40us/sample - loss: 0.0420 - accuracy: 0.9881\n",
            "Epoch 19/50\n",
            "4352/4352 [==============================] - 0s 43us/sample - loss: 0.0401 - accuracy: 0.9881\n",
            "Epoch 20/50\n",
            "4352/4352 [==============================] - 0s 47us/sample - loss: 0.0416 - accuracy: 0.9878\n",
            "Epoch 21/50\n",
            "4352/4352 [==============================] - 0s 42us/sample - loss: 0.0439 - accuracy: 0.9867\n",
            "Epoch 22/50\n",
            "4352/4352 [==============================] - 0s 43us/sample - loss: 0.0422 - accuracy: 0.9874\n",
            "Epoch 23/50\n",
            "4352/4352 [==============================] - 0s 42us/sample - loss: 0.0399 - accuracy: 0.9887\n",
            "Epoch 24/50\n",
            "4352/4352 [==============================] - 0s 41us/sample - loss: 0.0426 - accuracy: 0.9876\n",
            "Epoch 25/50\n",
            "4352/4352 [==============================] - 0s 42us/sample - loss: 0.0430 - accuracy: 0.9853\n",
            "Epoch 26/50\n",
            "4352/4352 [==============================] - 0s 41us/sample - loss: 0.0392 - accuracy: 0.9876\n",
            "Epoch 27/50\n",
            "4352/4352 [==============================] - 0s 42us/sample - loss: 0.0397 - accuracy: 0.9881\n",
            "Epoch 28/50\n",
            "4352/4352 [==============================] - 0s 41us/sample - loss: 0.0415 - accuracy: 0.9864\n",
            "Epoch 29/50\n",
            "4352/4352 [==============================] - 0s 47us/sample - loss: 0.0407 - accuracy: 0.9885\n",
            "Epoch 30/50\n",
            "4352/4352 [==============================] - 0s 42us/sample - loss: 0.0458 - accuracy: 0.9851\n",
            "Epoch 31/50\n",
            "4352/4352 [==============================] - 0s 40us/sample - loss: 0.0383 - accuracy: 0.9883\n",
            "Epoch 32/50\n",
            "4352/4352 [==============================] - 0s 42us/sample - loss: 0.0433 - accuracy: 0.9869\n",
            "Epoch 33/50\n",
            "4352/4352 [==============================] - 0s 40us/sample - loss: 0.0415 - accuracy: 0.9871\n",
            "Epoch 34/50\n",
            "4352/4352 [==============================] - 0s 41us/sample - loss: 0.0429 - accuracy: 0.9876\n",
            "Epoch 35/50\n",
            "4352/4352 [==============================] - 0s 41us/sample - loss: 0.0391 - accuracy: 0.9892\n",
            "Epoch 36/50\n",
            "4352/4352 [==============================] - 0s 40us/sample - loss: 0.0423 - accuracy: 0.9864\n",
            "Epoch 37/50\n",
            "4352/4352 [==============================] - 0s 44us/sample - loss: 0.0416 - accuracy: 0.9864\n",
            "Epoch 38/50\n",
            "4352/4352 [==============================] - 0s 41us/sample - loss: 0.0392 - accuracy: 0.9890\n",
            "Epoch 39/50\n",
            "4352/4352 [==============================] - 0s 40us/sample - loss: 0.0415 - accuracy: 0.9869\n",
            "Epoch 40/50\n",
            "4352/4352 [==============================] - 0s 41us/sample - loss: 0.0410 - accuracy: 0.9871\n",
            "Epoch 41/50\n",
            "4352/4352 [==============================] - 0s 40us/sample - loss: 0.0388 - accuracy: 0.9869\n",
            "Epoch 42/50\n",
            "4352/4352 [==============================] - 0s 39us/sample - loss: 0.0403 - accuracy: 0.9883\n",
            "Epoch 43/50\n",
            "4352/4352 [==============================] - 0s 41us/sample - loss: 0.0390 - accuracy: 0.9878\n",
            "Epoch 44/50\n",
            "4352/4352 [==============================] - 0s 42us/sample - loss: 0.0388 - accuracy: 0.9878\n",
            "Epoch 45/50\n",
            "4352/4352 [==============================] - 0s 40us/sample - loss: 0.0386 - accuracy: 0.9881\n",
            "Epoch 46/50\n",
            "4352/4352 [==============================] - 0s 40us/sample - loss: 0.0422 - accuracy: 0.9869\n",
            "Epoch 47/50\n",
            "4352/4352 [==============================] - 0s 42us/sample - loss: 0.0424 - accuracy: 0.9871\n",
            "Epoch 48/50\n",
            "4352/4352 [==============================] - 0s 40us/sample - loss: 0.0397 - accuracy: 0.9892\n",
            "Epoch 49/50\n",
            "4352/4352 [==============================] - 0s 40us/sample - loss: 0.0390 - accuracy: 0.9874\n",
            "Epoch 50/50\n",
            "4352/4352 [==============================] - 0s 42us/sample - loss: 0.0412 - accuracy: 0.9869\n"
          ],
          "name": "stdout"
        },
        {
          "output_type": "execute_result",
          "data": {
            "text/plain": [
              "<tensorflow.python.keras.callbacks.History at 0x7f26cf14d7b8>"
            ]
          },
          "metadata": {
            "tags": []
          },
          "execution_count": 19
        }
      ]
    },
    {
      "cell_type": "markdown",
      "metadata": {
        "id": "wZ4dXURUTWkl",
        "colab_type": "text"
      },
      "source": [
        "Evaluate\n"
      ]
    },
    {
      "cell_type": "code",
      "metadata": {
        "id": "Ud7dmF6FTY8M",
        "colab_type": "code",
        "colab": {
          "base_uri": "https://localhost:8080/",
          "height": 91
        },
        "outputId": "f2a98f82-a9ad-4671-c0d6-00e57248da00"
      },
      "source": [
        "score = model.evaluate(X_test, y_test, verbose=1)\n",
        "\n",
        "print(score)"
      ],
      "execution_count": 21,
      "outputs": [
        {
          "output_type": "stream",
          "text": [
            "WARNING:tensorflow:Falling back from v2 loop because of error: Failed to find data adapter that can handle input: <class 'pandas.core.frame.DataFrame'>, <class 'NoneType'>\n",
            "2145/2145 [==============================] - 0s 25us/sample - loss: 0.0668 - accuracy: 0.9837\n",
            "[0.06676412891837527, 0.983683]\n"
          ],
          "name": "stdout"
        }
      ]
    }
  ]
}